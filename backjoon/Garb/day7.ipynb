{
 "cells": [
  {
   "cell_type": "code",
   "execution_count": null,
   "id": "b54881ff",
   "metadata": {},
   "outputs": [
    {
     "name": "stdout",
     "output_type": "stream",
     "text": [
      "배열의 최대값을 구합니다.\n",
      "최대값은 50\n"
     ]
    }
   ],
   "source": [
    "from typing import Any,Sequence\n",
    "\n",
    "\"\"\"시퀀스형 a 원소의 최대값을 반환\"\"\"\n",
    "\n",
    "def max_of(a: Sequence)-> Any:\n",
    "    maximum = a[0]\n",
    "    for i in range(1, len(a)):\n",
    "        if a[i] > maximum:\n",
    "            maximum = a[i]\n",
    "    return maximum\n",
    "        \n",
    "if __name__ == '__main__':\n",
    "    print('배열의 최대값을 구합니다.')\n",
    "    num = int(input('원소 수를 입력하세요.: '))\n",
    "    x= [None] * num #원소 수가 num인 리스트 생성\n",
    "    \n",
    "    for i in range(num):\n",
    "        x[i] = int(input(f'x{i}값을 입력하세요'))\n",
    "        \n",
    "print (f'최대값은 {max_of(x)}')"
   ]
  },
  {
   "cell_type": "markdown",
   "id": "7ae2467a",
   "metadata": {},
   "source": [
    "1.Any는 제약이 없는 임의의 자료형을 의미\n",
    "2.Sequence는 시퀀스형을 의미 (리스트,바이트 배열형(bytearry), 문자열 형, 튜플형 바이트 열 형(bytes))\n",
    "\n",
    "/함수안에서는 배열의 원소값을 변경하지 않음\n",
    "호출하느 ㄴ쪽이 넘겨주는 실제 인수의 자료형은 뮤터블인 리스트,이뮤터블인 튜플-문자열 등 시퀀스 자료형이라면 무엇이든 상관 없음\n",
    "인수의 원소를 비교 연산자 > 로 값을 비교 할 수 있다면 다른 형(int형, float형)이 섞여 있어도 됩니다.\n",
    "최대값의 원소가 int형 원소이면 int형 값을 반환하고, float형 원소이면 float형 값을 반환합니다.\n",
    "\n",
    "max_of()함수 안에서 매개변수에 대한 [함수 어노테이션](https://bluese05.tistory.com/78)은 시퀀스형이 아닌 뮤터블 시퀀스라고 명시\n",
    "어노테이블 간단한 설명\n",
    "파이썬은 너무나 자유로운 나머지 매개변수에 뭘 넣어야 할지 모호 할때가 종종 있다. 그런 것을 조금이나마 줄이고자 매개변수에 주석을 달아 주는 그러한 기능이 함수 어노테이션 이다.\n",
    "어노테이션의 가장 큰 특징은 제약이 강제성이 없다는 것. 그저 주석달기로 매개변수와 반환값을 나타내기만 함.\n",
    " "
   ]
  },
  {
   "cell_type": "code",
   "execution_count": 5,
   "id": "711a26eb",
   "metadata": {},
   "outputs": [
    {
     "name": "stdout",
     "output_type": "stream",
     "text": [
      "배열의 최대값을 구합니다.\n",
      "주의 \"End\" 입력하면 종료합니다.\n",
      "6개를 입력했습니다.\n",
      "최대값은 600\n"
     ]
    }
   ],
   "source": [
    "from my_max import max_of\n",
    "\n",
    "print(\"배열의 최대값을 구합니다.\")\n",
    "print('주의 \"End\" 입력하면 종료합니다.')\n",
    "    \n",
    "number = 0\n",
    "x = [] # 빈리스트\n",
    " \n",
    "while True:\n",
    "    s= input(f'x[{number}]값을 입력하세요 ')\n",
    "    if s == 'End':\n",
    "        break\n",
    "    x.append(int(s))\n",
    "    number +=1\n",
    "print(f'{number}개를 입력했습니다.')\n",
    "print(f'최대값은 {max_of(x)}')"
   ]
  },
  {
   "cell_type": "code",
   "execution_count": 7,
   "id": "8e4c3793",
   "metadata": {},
   "outputs": [
    {
     "name": "stdout",
     "output_type": "stream",
     "text": [
      "난수의 최대값을 구합니다.\n",
      "[996, 672, 791, 489, 403, 213]\n",
      "이 가운데 최대값은 996입니다.\n"
     ]
    }
   ],
   "source": [
    "# 배열 원소의 최대값을 구해서 출력하기(원소값을 난수로 생성)\n",
    "\n",
    "import random\n",
    "from my_max import max_of\n",
    "\n",
    "print('난수의 최대값을 구합니다.')\n",
    "num = int(input('난수의 개수를 입력하세요.:'))\n",
    "lo = int(input('난수의 최솟값을 입력하세요:'))\n",
    "hi = int(input('난수의 최대값을 입력하세요:'))\n",
    "x= [None]* num\n",
    "\n",
    "for i in range(num):\n",
    "    x[i] = random.randint(lo,hi)\n",
    "    \n",
    "print(f'{(x)}')\n",
    "print(f'이 가운데 최대값은 {max_of(x)}입니다.')"
   ]
  },
  {
   "cell_type": "code",
   "execution_count": 9,
   "id": "4fab5721",
   "metadata": {},
   "outputs": [
    {
     "name": "stdout",
     "output_type": "stream",
     "text": [
      "(4, 7, 5.6, 2, 3.14, 1)의 최대값은 7입니다.\n",
      "string의 최대값은 t입니다.\n",
      "['DTS', 'AAC', 'FALC']의 최대값은 FALC입니다.\n"
     ]
    }
   ],
   "source": [
    "#각 배열 원소의 쵀대값을 구해서 출력하기(튜플, 문자열,문자열 리스트)\n",
    "\n",
    "from my_max import max_of\n",
    "\n",
    "t = (4,7,5.6,2,3.14,1)\n",
    "s= 'string'\n",
    "a= ['DTS','AAC','FALC']\n",
    "\n",
    "print(f'{t}의 최대값은 {max_of(t)}입니다.')\n",
    "print(f'{s}의 최대값은 {max_of(s)}입니다.')\n",
    "print(f'{a}의 최대값은 {max_of(a)}입니다.')"
   ]
  },
  {
   "cell_type": "markdown",
   "id": "c93fa799",
   "metadata": {},
   "source": [
    "튜플 t는 정수와 실수 원소가 섞여 있지만 최대값 7이 출력\n",
    "s는 string이라는 문자가운데 가장 큰 문자 코드인 t를 출력\n",
    "a는 문자열 리스트[(str),(str),(str)]로, 사전 순으로 가장 큰 문자열인 FLAC을 출력합니다."
   ]
  },
  {
   "cell_type": "code",
   "execution_count": 10,
   "id": "af464509",
   "metadata": {},
   "outputs": [
    {
     "data": {
      "text/plain": [
       "False"
      ]
     },
     "execution_count": 10,
     "metadata": {},
     "output_type": "execute_result"
    }
   ],
   "source": [
    "lst1 = [1,2,3,4,5]\n",
    "lst2 = [1,2,3,4,5]\n",
    "\n",
    "lst1 is lst2"
   ]
  },
  {
   "cell_type": "markdown",
   "id": "b5df5203",
   "metadata": {},
   "source": [
    "리스트와 튜플은 모든 원소의 값이 같아도 동일성(식별번호)가 같은지 is로 판단하는데 여기에서 결과는 False\n",
    "이는 리터럴(literal)이 아니기 때문."
   ]
  },
  {
   "cell_type": "code",
   "execution_count": 17,
   "id": "0d04e3a1",
   "metadata": {},
   "outputs": [
    {
     "name": "stdout",
     "output_type": "stream",
     "text": [
      "True\n",
      "True\n",
      "[1, 2, 10, 4, 5, 6]\n",
      "[1, 2, 10, 4, 5, 6]\n"
     ]
    }
   ],
   "source": [
    "lst1 = [1,2,3,4,5]\n",
    "lst2 = lst1\n",
    "\n",
    "print(lst1 is lst2)\n",
    "lst2.append(6)\n",
    "lst1[2] = 10\n",
    "print(lst1 is lst2)\n",
    "print(lst1)\n",
    "print(lst2)\n"
   ]
  },
  {
   "cell_type": "markdown",
   "id": "fe875348",
   "metadata": {},
   "source": [
    "파이썬에서 =은 대입연산자가 아닌 참조이기 때문에 위와같이 작성하면 같은 값을 참조\n",
    "실제 리스트의 값을 한쪽에다 추가해도 동일한 녀석이기에 어느쪽에다 추가하든 추가가 됨.\n",
    "별명 같은 개념이랄까."
   ]
  },
  {
   "cell_type": "code",
   "execution_count": 19,
   "id": "a8a92fed",
   "metadata": {},
   "outputs": [
    {
     "name": "stdout",
     "output_type": "stream",
     "text": [
      "x[0]=john\n",
      "x[1]=George\n",
      "x[2]=Paul\n",
      "x[3]=Ringo\n"
     ]
    }
   ],
   "source": [
    "#리스트의 모든 원소를 스캔하기(원소 수를 미리 파악)\n",
    "\n",
    "x = ['john', 'George','Paul','Ringo']\n",
    "\n",
    "for i in range(len(x)):\n",
    "    print(f'x[{i}]={x[i]}')"
   ]
  },
  {
   "cell_type": "code",
   "execution_count": 54,
   "id": "173d0906",
   "metadata": {},
   "outputs": [
    {
     "name": "stdout",
     "output_type": "stream",
     "text": [
      "<enumerate object at 0x000002EB3D8D18A0>\n",
      "x[0] = john\n",
      "x[1] = George\n",
      "x[2] = Paul\n",
      "x[3] = Ringo\n",
      "john\n",
      "George\n",
      "Paul\n",
      "Ringo\n",
      "(0, 'john')\n",
      "(1, 'George')\n",
      "(2, 'Paul')\n",
      "(3, 'Ringo')\n"
     ]
    }
   ],
   "source": [
    "#리스트의 모든 원소를 enumerate()함수로 스캔하기\n",
    "\n",
    "x = ['john', 'George','Paul','Ringo']\n",
    "b = enumerate(x)\n",
    "print (b)\n",
    "for i, name in enumerate(x):\n",
    "    print(f'x[{i}] = {name}')\n",
    "    \n",
    "for name in x:\n",
    "    print(f'{name}')\n",
    "\n",
    "for name in enumerate(x):\n",
    "    print(f'{name}')"
   ]
  },
  {
   "cell_type": "markdown",
   "id": "48c60bcc",
   "metadata": {},
   "source": [
    "enumerate()함수는 리스트와 인덱스를 짝지어 튜플로 만들어 주는 함수"
   ]
  },
  {
   "cell_type": "code",
   "execution_count": 24,
   "id": "f122ca3d",
   "metadata": {},
   "outputs": [
    {
     "name": "stdout",
     "output_type": "stream",
     "text": [
      "1번째 = john\n",
      "2번째 = George\n",
      "3번째 = Paul\n",
      "4번째 = Ringo\n"
     ]
    }
   ],
   "source": [
    "#리스트의 모든 원소를 enumerate() 함수로 스캔하기 (1부터 스캔하기)\n",
    "x = ['john', 'George','Paul','Ringo']\n",
    "\n",
    "for i,name in (enumerate(x,1)):\n",
    "    print(f'{i}번째 = {name}')"
   ]
  },
  {
   "cell_type": "code",
   "execution_count": 25,
   "id": "00f508d9",
   "metadata": {},
   "outputs": [
    {
     "name": "stdout",
     "output_type": "stream",
     "text": [
      "john\n",
      "George\n",
      "Paul\n",
      "Ringo\n"
     ]
    }
   ],
   "source": [
    "#리스트의 모든원소를 스캔하기\n",
    "x = ['john', 'George','Paul','Ringo']\n",
    "\n",
    "for i in x:\n",
    "    print(i)"
   ]
  },
  {
   "cell_type": "code",
   "execution_count": 29,
   "id": "5ac8e91a",
   "metadata": {},
   "outputs": [
    {
     "name": "stdout",
     "output_type": "stream",
     "text": [
      "('john', 'George', 'Paul', 'Ringo')\n",
      "john\n",
      "George\n",
      "Paul\n",
      "Ringo\n",
      "john\n",
      "George\n",
      "Paul\n",
      "Ringo\n"
     ]
    }
   ],
   "source": [
    "x = ('john', 'George','Paul','Ringo')\n",
    "print(x)\n",
    "for a in iter(x):\n",
    "    print(a)\n",
    "for a in x:\n",
    "    print(a)\n",
    "# 리스트와 유사하지만 튜플은 이뮤터블 변수라는 점"
   ]
  },
  {
   "cell_type": "markdown",
   "id": "c835d8c0",
   "metadata": {},
   "source": [
    "##이터러블\n",
    "\n",
    "문자열,리스트, 튜플,집합, 딕셔너리 등의 자료형 객체는 모두 이터러블 (반복 가능)하다는 공통점이 있음.\n",
    "이터러블 객체는 원소를 하나씩 꺼내는 구조이며, 이터러블 객체를 내장 함수인 iter()의 인수로 전달 하면 그 객체에 대한 이터레이터(반복자)를 반환합니다?!?\n",
    "이터레이터는 데이터의 나열을 표현하는 객체입니다. 이터레이터의 __next__ 함수를 호출하거나 내장 함수 next()함수에 이터레이터를 전달하면 원소를 순차적으로 꺼낼 수 있습니다. 꺼낼 원소가 더 이상 없는 경우에는 StopIteration으로 예외 발생을 시킵니다."
   ]
  },
  {
   "cell_type": "code",
   "execution_count": 37,
   "id": "875ca62a",
   "metadata": {},
   "outputs": [
    {
     "name": "stdout",
     "output_type": "stream",
     "text": [
      "배열 원소를 역순으로 정렬합니다.\n",
      "배열 원소를 역순으로 정렬했습니다.\n",
      "[0] = 5\n",
      "[1] = 4\n",
      "[2] = 3\n",
      "[3] = 2\n",
      "[4] = 1\n",
      "[1, 2, 3, 4, 5]\n"
     ]
    }
   ],
   "source": [
    "# 뮤터블 시퀀스 원소를 역순으로 저장\n",
    "\n",
    "from typing import Any, MutableSequence\n",
    "\n",
    "def reverse_array(a: MutableSequence) -> None:\n",
    "    \"\"\"뮤터블 시퀀스 a의 원소를 역순으로 정렬\"\"\"\n",
    "    n = len(a)\n",
    "    for i in range(n // 2):\n",
    "        a[i], a[n-i-1] = a[n-i-1], a[i]\n",
    "\n",
    "if __name__ == '__main__':\n",
    "    print('배열 원소를 역순으로 정렬합니다.')\n",
    "    nx = int(input('원소 수를 입력하세요.:'))\n",
    "    x = [None]*nx # 원소 수가 nx인 리스트 생성\n",
    "\n",
    "    \n",
    "    for i in range(nx):\n",
    "        x[i] = int(input(f'x[{i}]값을 입력하세요'))\n",
    "        \n",
    "    \n",
    "    reverse_array(x)\n",
    "    \n",
    "    print('배열 원소를 역순으로 정렬했습니다.')\n",
    "    for i in range(nx):\n",
    "        print(f'[{i}] = {x[i]}')\n",
    "        \n",
    "    y = list(reversed(x))\n",
    "    print(y)"
   ]
  },
  {
   "cell_type": "markdown",
   "id": "663234b9",
   "metadata": {},
   "source": [
    "x.reverse() 내장함수는 리스트를 역순으로 정렬하는 함수. - 튜플은 이뮤터블하기에 자기자신을 역순으로 정렬할 수 없음.\n",
    "reversed() 함수sms x의 원소를 역순으로 정렬하는 이터러블 객체를 생성.\n",
    "엄밀하게 말하자면 x의 원소를 역순으로 꺼내는 이터레이터 (반복자를) 반환하는 것.\n",
    "따라서 어떤 어떤 리스트의 원소를 역순으로 정렬한다면, reversed() 함수가 반환하는 이터러블 객체를 list() 함수에 넘기고 새로은 리스트를 생성해야 합니다. 예를 들어 리스트 x를 역순을 ㅗ정렬하여 y에 대입하면 다음과 같이 작성하면 됩니다."
   ]
  },
  {
   "cell_type": "markdown",
   "id": "ed499790",
   "metadata": {},
   "source": [
    "기수 개념\n",
    "기수는 수를 나타내는데 기초가 되며 10진법에서는 0~9 까지 정수를 말함\n",
    "이 10개의 기수를 사용하여 무수히 많은 값을 수로 나타낼 수 있음.\n",
    "\n",
    "서수 개념\n",
    "사물의 순서를 나타냄 첫째,둘쨰,셋째\n",
    "또 숫자는 수를 나타내는 기호로 10진법에서는 10개 숫자 사용, 수는 숫자를 사용하여 무수히 많은 값을 나타낼 수 있음\n",
    "\n",
    "10 진수(decimal)\n",
    "1자릿수: 0 ~ 9 까지의 수를 나타냄\n",
    "2자릿수: 10 ~ 99 까지의 수를 나타냄\n",
    "3자릿수: 100 ~ 999 까지의 수를 나타냄\n",
    "\n",
    "10진수는 각 자리는 아랫자리부터 10^0,10^1,10^2 으로 10의 거듭제곱값을 가짐.\n",
    "\n",
    "8진수(octal)\n",
    "0~7 까지 숫자를 가짐 (byte)\n",
    "\n",
    "1자릿수 0 ~ 7\n",
    "2자릿수 10 ~ 77\n",
    "3자릿수 100 ~ 777\n",
    "10진수는 각 자리는 아랫자리부터 8^0,8^1,8^2 으로 8의 거듭제곱값을 가짐.\n",
    "\n",
    "5306 = 5*8^3 , 3*8^2 +0*8^1 + 6*8^0 --- 10진수로는 2,7,5,8\n",
    "\n",
    "16진수(hexadecimal)\n",
    "0,1,2,3,4,5,6,7,8,9,A,B,C,D,E,F 종류의 수를 가짐\n",
    "\n",
    "1자릿수 0 ~ F\n",
    "2자릿수 10 ~ FF\n",
    "3자릿수 100 ~ FFF\n",
    "\n",
    "12A0 = 1*16^3,2*16^2, 10*16^1, 0*16^0 = 4096 + 512 + 160 = 4768\n",
    "0001 0010 1010 0000"
   ]
  },
  {
   "cell_type": "code",
   "execution_count": null,
   "id": "8de9a73c",
   "metadata": {},
   "outputs": [],
   "source": [
    "#10진수 정수값을 입력받아 2 ~ 36진수로 변환하여 출력하기\n",
    "\n",
    "def card_conv(x: int, r: int )-> str:\n",
    "    \"\"\"정수값 x를 r진수로 변환한 뒤 그 수를 나타내는 문자열을 반환\"\"\"\n",
    "    \n",
    "    d=''\n",
    "    dchar = '0123456789ABCDEFGHIJKLMNOPQRSTUVWXYZ'\n",
    "    \n",
    "    while x > 0:\n",
    "        d += dchar[x%r] #해당하는 문자를 꺼내 결합?!?\n",
    "        x //= r\n",
    "    return d[::-1] #역순으로 반환"
   ]
  },
  {
   "cell_type": "code",
   "execution_count": 48,
   "id": "7de9765b",
   "metadata": {},
   "outputs": [
    {
     "name": "stdout",
     "output_type": "stream",
     "text": [
      "30\n",
      "   30\n"
     ]
    }
   ],
   "source": [
    "r= 30\n",
    "rl =5 #len(str(r))\n",
    "print(f'{r:2}')\n",
    "print(f'{r:{rl}d}')"
   ]
  },
  {
   "cell_type": "code",
   "execution_count": 4,
   "id": "c34e1e78",
   "metadata": {},
   "outputs": [
    {
     "name": "stdout",
     "output_type": "stream",
     "text": [
      "[[1, 5, 3], [4, 5, 6]]\n",
      "[[1, 2, 3], [4, 5, 6]]\n"
     ]
    }
   ],
   "source": [
    "import copy\n",
    "lst1 = [[1,2,3],[4,5,6]]\n",
    "lst2= lst1\n",
    "\n",
    "#lst1[0][1] = 9\n",
    "\n",
    "lst2 = copy.deepcopy(lst1)\n",
    "\n",
    "lst1[0][1] = 5\n",
    "\n",
    "print(lst1)\n",
    "print(lst2)"
   ]
  },
  {
   "cell_type": "code",
   "execution_count": null,
   "id": "82a25402",
   "metadata": {},
   "outputs": [],
   "source": []
  },
  {
   "cell_type": "code",
   "execution_count": 63,
   "id": "54109e03",
   "metadata": {},
   "outputs": [
    {
     "name": "stdout",
     "output_type": "stream",
     "text": [
      "[6, 3, 2, 5, 4]\n",
      "3\n"
     ]
    }
   ],
   "source": [
    "#for 문으로 작성한 선형 검색 알고리즘\n",
    "from typing import Any, Sequence\n",
    "\n",
    "def seq_search(a: Sequence, key: Any)-> int:\n",
    "    \"\"\"시퀀스 a에서 key와 같이 같은 원소를 선형 검색(for)문\"\"\"\n",
    "    \n",
    "    for i in range(len(a)):\n",
    "        if a[i]== key:\n",
    "            return i\n",
    "    return -1\n",
    "\n",
    "x = int(input(\"몇개?\"))\n",
    "lst = [0 for _ in range(x)]\n",
    "for _ in range(x):\n",
    "    s = int(input())\n",
    "    lst[_] = s\n",
    "search_key = int(input(\"찾을값?!?\"))\n",
    "print(lst)\n",
    "print(seq_search(lst, search_key))\n"
   ]
  },
  {
   "cell_type": "code",
   "execution_count": 5,
   "id": "1da63c3f",
   "metadata": {},
   "outputs": [
    {
     "name": "stdout",
     "output_type": "stream",
     "text": [
      "검색값은 x[4]에 있습니다.\n"
     ]
    }
   ],
   "source": [
    "#seq_search() 함수 사용하여 실수 검색\n",
    "\n",
    "from ssearch_for import seq_search\n",
    "\n",
    "number = 0\n",
    "x= []\n",
    "while True:\n",
    "    s = input(f'x[{number}]: ')\n",
    "    if s == 'End':\n",
    "        break\n",
    "    x.append(float(s))\n",
    "    number += 1\n",
    "ky = float(input('검색할 값을 입력하세요')) #검색할 키 ky를 입력받기\n",
    "\n",
    "idx = seq_search(x,ky)\n",
    "if idx == -1:\n",
    "    print('검색값을 갖는 원소가 존재하지 않습니다.')\n",
    "else:\n",
    "    print(f'검색값은 x[{idx}]에 있습니다.')"
   ]
  },
  {
   "cell_type": "code",
   "execution_count": null,
   "id": "48f69443",
   "metadata": {},
   "outputs": [
    {
     "name": "stdout",
     "output_type": "stream",
     "text": [
      "738\n",
      "6150\n",
      "49200\n",
      "56088\n"
     ]
    }
   ],
   "source": [
    "a = int(input())\n",
    "b = (input())\n",
    "result = 0\n",
    "upper = 1\n",
    "for _ in b[::-1]:\n",
    "    temp = int(_) * a\n",
    "    print(temp)\n",
    "    result += temp *upper\n",
    "    upper *=10\n",
    "    \n",
    "print(result)\n",
    "\n"
   ]
  },
  {
   "cell_type": "code",
   "execution_count": null,
   "id": "44aa393f",
   "metadata": {},
   "outputs": [],
   "source": [
    "A = int(input())\n",
    "B = input()\n",
    "\n",
    "mux = 1\n",
    "result = 0\n",
    "for i in reversed(B):\n",
    "    value = int(i)*A\n",
    "    print(value)\n",
    "    result+= value*mux\n",
    "    mux*=10\n",
    "\n",
    "print(result)"
   ]
  },
  {
   "cell_type": "code",
   "execution_count": 121,
   "id": "6fa54b8d",
   "metadata": {},
   "outputs": [
    {
     "name": "stdout",
     "output_type": "stream",
     "text": [
      "98\n"
     ]
    }
   ],
   "source": [
    "##백준 한수 문제 풀이\n",
    "\n",
    "def hans(n: int) -> int:\n",
    "    if n < 100:\n",
    "        return int(n)\n",
    "    elif  int(n) == 1000:\n",
    "        n = 999\n",
    "    \n",
    "    lst=[False for _ in range(n-99)]\n",
    "    \n",
    "    for i in range(100,n+1):\n",
    "        \n",
    "        x = list(map(int,str(i)))\n",
    "        \n",
    "        \n",
    "        \n",
    "        if x[0] - x[1] == x[1] - x[2]:\n",
    "            #print(x)\n",
    "            lst[i-100] = True\n",
    "        \n",
    "        #if x[0] - x[1] == x[1] - x[2]:\n",
    "        #    lst[i]=True\n",
    "            \n",
    "    return lst.count(True) + 99\n",
    "\n",
    "a = int(input())\n",
    "print(hans(a)) \n",
    "\n",
    "\n"
   ]
  },
  {
   "cell_type": "code",
   "execution_count": null,
   "id": "ce87ba90",
   "metadata": {},
   "outputs": [
    {
     "name": "stdout",
     "output_type": "stream",
     "text": [
      "2097151\n"
     ]
    }
   ],
   "source": [
    "#hanoi\n",
    "\n",
    "\n",
    "     \n",
    "def hanoi(n, left,temp,right):\n",
    "\n",
    "    \n",
    "    \n",
    "    if n == 1:\n",
    "        \n",
    "        print(f'{left} {right}')\n",
    "        \n",
    "        \n",
    "    elif n >= 2:\n",
    "        \n",
    "        hanoi(n-1,left,right,temp)\n",
    "        print(f'{left} {right}')\n",
    "        hanoi(n-1,temp,left,right)\n",
    "        \n",
    "    \n",
    "\n",
    "n = int(input())\n",
    "print(2**n-1)\n",
    "if n <= 20:    \n",
    "    hanoi(n,1,2,3)\n",
    "    \n",
    "\n",
    "    \n",
    "\n",
    "    \n",
    "    "
   ]
  },
  {
   "cell_type": "code",
   "execution_count": 117,
   "id": "e1a1a61a",
   "metadata": {},
   "outputs": [],
   "source": [
    "\n",
    "\n",
    "pos = [0] * 8\n",
    "flag = [False] * 8\n",
    "\n",
    "def put() -> None:\n",
    "    \n",
    "    for i in range(8):\n",
    "        print(f'{pos[i]:2}')\n",
    "    print()\n",
    "    \n",
    "def set(i:int)-> None:\n",
    "    \n",
    "    for j in range(7):\n",
    "        if not flag[j]:\n",
    "            pos[i] = j\n",
    "            if i == 8:\n",
    "                put()\n",
    "            else:\n",
    "                flag[j] =True\n",
    "                set(i+1)\n",
    "                flag[j]=False\n",
    "                \n",
    "\n",
    "set(0)\n",
    "    "
   ]
  },
  {
   "cell_type": "code",
   "execution_count": null,
   "id": "6f13fa8c",
   "metadata": {},
   "outputs": [],
   "source": []
  }
 ],
 "metadata": {
  "kernelspec": {
   "display_name": "Python 3",
   "language": "python",
   "name": "python3"
  },
  "language_info": {
   "codemirror_mode": {
    "name": "ipython",
    "version": 3
   },
   "file_extension": ".py",
   "mimetype": "text/x-python",
   "name": "python",
   "nbconvert_exporter": "python",
   "pygments_lexer": "ipython3",
   "version": "3.13.2"
  }
 },
 "nbformat": 4,
 "nbformat_minor": 5
}
